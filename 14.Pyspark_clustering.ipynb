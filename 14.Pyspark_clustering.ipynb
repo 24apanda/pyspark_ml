{
 "cells": [
  {
   "cell_type": "code",
   "execution_count": 97,
   "metadata": {},
   "outputs": [],
   "source": [
    "import pyspark\n",
    "from pyspark import SparkConf, SparkContext\n",
    "from pyspark.sql import *\n",
    "#spark = sqlContext"
   ]
  },
  {
   "cell_type": "code",
   "execution_count": 98,
   "metadata": {},
   "outputs": [],
   "source": [
    "beer = spark.read.csv('F:/JupyterML/ML_Practice/datasets/beers.csv',sep =',',inferSchema='true',header ='true')"
   ]
  },
  {
   "cell_type": "code",
   "execution_count": 99,
   "metadata": {},
   "outputs": [
    {
     "name": "stdout",
     "output_type": "stream",
     "text": [
      "+---+-----+----+----+-------------------+--------------------+----------+------+\n",
      "|_c0|  abv| ibu|  id|               name|               style|brewery_id|ounces|\n",
      "+---+-----+----+----+-------------------+--------------------+----------+------+\n",
      "|  0| 0.05|null|1436|           Pub Beer| American Pale Lager|       408|  12.0|\n",
      "|  1|0.066|null|2265|        Devil's Cup|American Pale Ale...|       177|  12.0|\n",
      "|  2|0.071|null|2264|Rise of the Phoenix|        American IPA|       177|  12.0|\n",
      "|  3| 0.09|null|2263|           Sinister|American Double /...|       177|  12.0|\n",
      "+---+-----+----+----+-------------------+--------------------+----------+------+\n",
      "only showing top 4 rows\n",
      "\n"
     ]
    }
   ],
   "source": [
    "beer.show(4)"
   ]
  },
  {
   "cell_type": "code",
   "execution_count": 100,
   "metadata": {},
   "outputs": [],
   "source": [
    "beer = beer[['abv','style','brewery_id','ounces']]"
   ]
  },
  {
   "cell_type": "code",
   "execution_count": 101,
   "metadata": {},
   "outputs": [
    {
     "name": "stdout",
     "output_type": "stream",
     "text": [
      "+-----+--------------------+----------+------+\n",
      "|  abv|               style|brewery_id|ounces|\n",
      "+-----+--------------------+----------+------+\n",
      "| 0.05| American Pale Lager|       408|  12.0|\n",
      "|0.066|American Pale Ale...|       177|  12.0|\n",
      "|0.071|        American IPA|       177|  12.0|\n",
      "+-----+--------------------+----------+------+\n",
      "only showing top 3 rows\n",
      "\n"
     ]
    }
   ],
   "source": [
    "beer.show(3)"
   ]
  },
  {
   "cell_type": "code",
   "execution_count": 102,
   "metadata": {},
   "outputs": [],
   "source": [
    "from pyspark.ml import Pipeline\n",
    "from pyspark.ml.feature import StringIndexer,VectorIndexer,OneHotEncoder, VectorAssembler, IndexToString\n",
    "from pyspark.sql.functions import *"
   ]
  },
  {
   "cell_type": "code",
   "execution_count": 103,
   "metadata": {},
   "outputs": [],
   "source": [
    "beer = beer.na.drop()"
   ]
  },
  {
   "cell_type": "code",
   "execution_count": 104,
   "metadata": {},
   "outputs": [
    {
     "data": {
      "text/plain": [
       "2346"
      ]
     },
     "execution_count": 104,
     "metadata": {},
     "output_type": "execute_result"
    }
   ],
   "source": [
    "beer.count()"
   ]
  },
  {
   "cell_type": "code",
   "execution_count": 105,
   "metadata": {},
   "outputs": [],
   "source": [
    "(traindf, testdf) = beer.randomSplit([0.7,0.3],seed =42)"
   ]
  },
  {
   "cell_type": "code",
   "execution_count": 106,
   "metadata": {},
   "outputs": [
    {
     "data": {
      "text/plain": [
       "1666"
      ]
     },
     "execution_count": 106,
     "metadata": {},
     "output_type": "execute_result"
    }
   ],
   "source": [
    "traindf.count()"
   ]
  },
  {
   "cell_type": "code",
   "execution_count": 107,
   "metadata": {},
   "outputs": [
    {
     "data": {
      "text/plain": [
       "[('abv', 'double'),\n",
       " ('style', 'string'),\n",
       " ('brewery_id', 'int'),\n",
       " ('ounces', 'double')]"
      ]
     },
     "execution_count": 107,
     "metadata": {},
     "output_type": "execute_result"
    }
   ],
   "source": [
    "beer.dtypes"
   ]
  },
  {
   "cell_type": "code",
   "execution_count": 108,
   "metadata": {},
   "outputs": [],
   "source": [
    "cat_features = [t[0] for t in beer.dtypes if t[1] =='string']\n",
    "num_features = [t[0] for t in beer.dtypes if t[1] =='int' or t[1] =='double']"
   ]
  },
  {
   "cell_type": "code",
   "execution_count": 109,
   "metadata": {},
   "outputs": [
    {
     "data": {
      "text/plain": [
       "['style']"
      ]
     },
     "execution_count": 109,
     "metadata": {},
     "output_type": "execute_result"
    }
   ],
   "source": [
    "cat_features"
   ]
  },
  {
   "cell_type": "code",
   "execution_count": 110,
   "metadata": {},
   "outputs": [
    {
     "data": {
      "text/plain": [
       "['abv', 'brewery_id', 'ounces']"
      ]
     },
     "execution_count": 110,
     "metadata": {},
     "output_type": "execute_result"
    }
   ],
   "source": [
    "num_features"
   ]
  },
  {
   "cell_type": "code",
   "execution_count": 111,
   "metadata": {},
   "outputs": [
    {
     "name": "stdout",
     "output_type": "stream",
     "text": [
      "+-----+----------+------+\n",
      "|  abv|brewery_id|ounces|\n",
      "+-----+----------+------+\n",
      "| 0.05|       408|  12.0|\n",
      "|0.066|       177|  12.0|\n",
      "|0.071|       177|  12.0|\n",
      "| 0.09|       177|  12.0|\n",
      "|0.075|       177|  12.0|\n",
      "+-----+----------+------+\n",
      "only showing top 5 rows\n",
      "\n"
     ]
    }
   ],
   "source": [
    "beer.select(num_features).show(5)"
   ]
  },
  {
   "cell_type": "code",
   "execution_count": 112,
   "metadata": {},
   "outputs": [],
   "source": [
    "styleIndexer = StringIndexer(inputCol='style', outputCol='Indexedstyle')"
   ]
  },
  {
   "cell_type": "code",
   "execution_count": 113,
   "metadata": {},
   "outputs": [],
   "source": [
    "input_col = ['abv', 'brewery_id', 'ounces','Indexedstyle']"
   ]
  },
  {
   "cell_type": "code",
   "execution_count": 114,
   "metadata": {},
   "outputs": [],
   "source": [
    "assembler = VectorAssembler(inputCols=input_col,outputCol=\"features\")"
   ]
  },
  {
   "cell_type": "code",
   "execution_count": 115,
   "metadata": {},
   "outputs": [],
   "source": [
    "from pyspark.ml.clustering import KMeans\n",
    "from pyspark.ml.feature import StandardScaler"
   ]
  },
  {
   "cell_type": "code",
   "execution_count": 116,
   "metadata": {},
   "outputs": [],
   "source": [
    "scaler = StandardScaler(inputCol = 'features', outputCol = 'scaledFeatures')"
   ]
  },
  {
   "cell_type": "code",
   "execution_count": 117,
   "metadata": {},
   "outputs": [],
   "source": [
    "pipeline_features = [styleIndexer,assembler,scaler]"
   ]
  },
  {
   "cell_type": "code",
   "execution_count": 118,
   "metadata": {},
   "outputs": [],
   "source": [
    "pipeline = Pipeline(stages=pipeline_features)"
   ]
  },
  {
   "cell_type": "code",
   "execution_count": 119,
   "metadata": {},
   "outputs": [],
   "source": [
    "pipe = pipeline.fit(beer)\n",
    "p_fea = pipe.transform(beer)"
   ]
  },
  {
   "cell_type": "code",
   "execution_count": 120,
   "metadata": {},
   "outputs": [
    {
     "name": "stdout",
     "output_type": "stream",
     "text": [
      "+-----+------------------------------+----------+------+------------+----------------------+---------------------------------------------------------------------------+\n",
      "|abv  |style                         |brewery_id|ounces|Indexedstyle|features              |scaledFeatures                                                             |\n",
      "+-----+------------------------------+----------+------+------------+----------------------+---------------------------------------------------------------------------+\n",
      "|0.05 |American Pale Lager           |408       |12.0  |14.0        |[0.05,408.0,12.0,14.0]|[3.690912908094385,2.611791589562038,5.143333636031784,0.7239446974073551] |\n",
      "|0.066|American Pale Ale (APA)       |177       |12.0  |1.0         |[0.066,177.0,12.0,1.0]|[4.872005038684589,1.1330566454717665,5.143333636031784,0.0517103355290968]|\n",
      "|0.071|American IPA                  |177       |12.0  |0.0         |[0.071,177.0,12.0,0.0]|[5.2410963294940265,1.1330566454717665,5.143333636031784,0.0]              |\n",
      "|0.09 |American Double / Imperial IPA|177       |12.0  |4.0         |[0.09,177.0,12.0,4.0] |[6.643643234569892,1.1330566454717665,5.143333636031784,0.2068413421163872]|\n",
      "+-----+------------------------------+----------+------+------------+----------------------+---------------------------------------------------------------------------+\n",
      "only showing top 4 rows\n",
      "\n"
     ]
    }
   ],
   "source": [
    "p_fea.show(4,False)"
   ]
  },
  {
   "cell_type": "code",
   "execution_count": 121,
   "metadata": {},
   "outputs": [],
   "source": [
    "kmeans3 = KMeans(featuresCol = 'scaledFeatures', k=3)\n",
    "kmeans4 = KMeans(featuresCol = 'scaledFeatures', k=4)\n",
    "kmeans5 = KMeans(featuresCol = 'scaledFeatures', k=5)"
   ]
  },
  {
   "cell_type": "code",
   "execution_count": 122,
   "metadata": {},
   "outputs": [],
   "source": [
    "model3 = kmeans3.fit(p_fea)"
   ]
  },
  {
   "cell_type": "code",
   "execution_count": 123,
   "metadata": {},
   "outputs": [
    {
     "name": "stdout",
     "output_type": "stream",
     "text": [
      "WSSSE: 6034.318067860257\n"
     ]
    }
   ],
   "source": [
    "print('WSSSE:', model3.computeCost(p_fea))"
   ]
  },
  {
   "cell_type": "code",
   "execution_count": 124,
   "metadata": {},
   "outputs": [
    {
     "name": "stdout",
     "output_type": "stream",
     "text": [
      "WSSSE: 5066.012872310219\n"
     ]
    }
   ],
   "source": [
    "model4 = kmeans4.fit(p_fea)\n",
    "print('WSSSE:', model4.computeCost(p_fea))"
   ]
  },
  {
   "cell_type": "code",
   "execution_count": 125,
   "metadata": {},
   "outputs": [
    {
     "name": "stdout",
     "output_type": "stream",
     "text": [
      "WSSSE: 4463.228829303852\n"
     ]
    }
   ],
   "source": [
    "model5 = kmeans5.fit(p_fea)\n",
    "print('WSSSE:', model5.computeCost(p_fea))"
   ]
  },
  {
   "cell_type": "code",
   "execution_count": 126,
   "metadata": {},
   "outputs": [
    {
     "name": "stdout",
     "output_type": "stream",
     "text": [
      "WSSSE: 4064.386848131942\n",
      "WSSSE: 3416.601691185484\n",
      "WSSSE: 7394.593349405141\n"
     ]
    }
   ],
   "source": [
    "kmeans6 = KMeans(featuresCol = 'scaledFeatures', k=6)\n",
    "kmeans7 = KMeans(featuresCol = 'scaledFeatures', k=7)\n",
    "kmeans2 = KMeans(featuresCol = 'scaledFeatures', k=2)\n",
    "model6 = kmeans6.fit(p_fea)\n",
    "model7 = kmeans7.fit(p_fea)\n",
    "model2 = kmeans2.fit(p_fea)\n",
    "print('WSSSE:', model6.computeCost(p_fea))\n",
    "print('WSSSE:', model7.computeCost(p_fea))\n",
    "print('WSSSE:', model2.computeCost(p_fea))"
   ]
  },
  {
   "cell_type": "code",
   "execution_count": 127,
   "metadata": {},
   "outputs": [],
   "source": [
    "aaa = model5.transform(p_fea)"
   ]
  },
  {
   "cell_type": "code",
   "execution_count": 128,
   "metadata": {},
   "outputs": [
    {
     "name": "stdout",
     "output_type": "stream",
     "text": [
      "[array([4.33376969, 1.99850107, 7.11515652, 0.48096996]), array([4.11636484, 0.70748702, 5.51791816, 0.39580444]), array([6.32524977, 1.11513259, 6.20451011, 0.95361664]), array([4.36515625, 1.16949018, 5.92407511, 2.9103884 ]), array([4.03724143, 2.52704487, 5.14333364, 0.49782459])]\n"
     ]
    }
   ],
   "source": [
    "centers = model5.clusterCenters()\n",
    "print(centers)"
   ]
  },
  {
   "cell_type": "code",
   "execution_count": 129,
   "metadata": {},
   "outputs": [
    {
     "name": "stdout",
     "output_type": "stream",
     "text": [
      "+-----+--------------------+----------+------+------------+--------------------+--------------------+----------+\n",
      "|  abv|               style|brewery_id|ounces|Indexedstyle|            features|      scaledFeatures|prediction|\n",
      "+-----+--------------------+----------+------+------------+--------------------+--------------------+----------+\n",
      "| 0.05| American Pale Lager|       408|  12.0|        14.0|[0.05,408.0,12.0,...|[3.69091290809438...|         4|\n",
      "|0.066|American Pale Ale...|       177|  12.0|         1.0|[0.066,177.0,12.0...|[4.87200503868458...|         1|\n",
      "|0.071|        American IPA|       177|  12.0|         0.0|[0.071,177.0,12.0...|[5.24109632949402...|         1|\n",
      "| 0.09|American Double /...|       177|  12.0|         4.0|[0.09,177.0,12.0,...|[6.64364323456989...|         2|\n",
      "+-----+--------------------+----------+------+------------+--------------------+--------------------+----------+\n",
      "only showing top 4 rows\n",
      "\n"
     ]
    }
   ],
   "source": [
    "aaa.show(4)"
   ]
  },
  {
   "cell_type": "code",
   "execution_count": 130,
   "metadata": {},
   "outputs": [
    {
     "name": "stdout",
     "output_type": "stream",
     "text": [
      "+----------+-----+\n",
      "|prediction|count|\n",
      "+----------+-----+\n",
      "|         1|  833|\n",
      "|         3|  269|\n",
      "|         4|  574|\n",
      "|         2|  265|\n",
      "|         0|  405|\n",
      "+----------+-----+\n",
      "\n"
     ]
    }
   ],
   "source": [
    "aaa.groupBy('prediction').count().show()"
   ]
  },
  {
   "cell_type": "code",
   "execution_count": null,
   "metadata": {},
   "outputs": [],
   "source": []
  }
 ],
 "metadata": {
  "kernelspec": {
   "display_name": "Python 3",
   "language": "python",
   "name": "python3"
  },
  "language_info": {
   "codemirror_mode": {
    "name": "ipython",
    "version": 3
   },
   "file_extension": ".py",
   "mimetype": "text/x-python",
   "name": "python",
   "nbconvert_exporter": "python",
   "pygments_lexer": "ipython3",
   "version": "3.6.4"
  }
 },
 "nbformat": 4,
 "nbformat_minor": 2
}

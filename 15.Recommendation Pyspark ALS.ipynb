{
 "cells": [
  {
   "cell_type": "code",
   "execution_count": 21,
   "metadata": {},
   "outputs": [],
   "source": [
    "import pyspark\n",
    "from pyspark import SparkContext\n",
    "from pyspark import SparkConf\n",
    "from pyspark.sql import SparkSession\n",
    "import numpy as np\n",
    "from pyspark.sql.functions import *\n",
    "from pyspark.sql.types import *"
   ]
  },
  {
   "cell_type": "code",
   "execution_count": 2,
   "metadata": {},
   "outputs": [],
   "source": [
    "conf = SparkConf()\n",
    "conf.set(\"spark.executor.memory\", \"6G\")\n",
    "conf.set(\"spark.driver.memory\", \"2G\")\n",
    "conf.set(\"spark.executor.cores\", \"4\")\n",
    " \n",
    "conf.set(\"spark.serializer\", \"org.apache.spark.serializer.KryoSerializer\")\n",
    "conf.set(\"spark.default.parallelism\", \"4\")\n",
    "conf.setMaster('local[4]')\n",
    " \n",
    "spark = SparkSession \\\n",
    "    .builder.config(conf=conf) \\\n",
    "    .appName(\"spark-santander-recommendation\").getOrCreate()"
   ]
  },
  {
   "cell_type": "code",
   "execution_count": 3,
   "metadata": {},
   "outputs": [],
   "source": [
    "full = spark.read.csv(\"F:/JupyterML/ML_Practice/datasets/train_ver2.csv\", header=\"true\",inferSchema=\"true\").select('ncodpers','fecha_dato','ind_ahor_fin_ult1', 'ind_aval_fin_ult1', 'ind_cco_fin_ult1', 'ind_cder_fin_ult1', 'ind_cno_fin_ult1', 'ind_ctju_fin_ult1', 'ind_ctma_fin_ult1', 'ind_ctop_fin_ult1', 'ind_ctpp_fin_ult1', 'ind_deco_fin_ult1', 'ind_deme_fin_ult1', 'ind_dela_fin_ult1', 'ind_ecue_fin_ult1', 'ind_fond_fin_ult1', 'ind_hip_fin_ult1', 'ind_plan_fin_ult1', 'ind_pres_fin_ult1', 'ind_reca_fin_ult1', 'ind_tjcr_fin_ult1', 'ind_valo_fin_ult1', 'ind_viv_fin_ult1', 'ind_nomina_ult1', 'ind_nom_pens_ult1', 'ind_recibo_ult1')\n"
   ]
  },
  {
   "cell_type": "code",
   "execution_count": 28,
   "metadata": {},
   "outputs": [
    {
     "name": "stdout",
     "output_type": "stream",
     "text": [
      "+---------+-------------------+-----------------+-----------------+----------------+-----------------+----------------+-----------------+-----------------+-----------------+-----------------+-----------------+-----------------+-----------------+-----------------+-----------------+----------------+-----------------+-----------------+-----------------+-----------------+-----------------+----------------+---------------+-----------------+---------------+\n",
      "| ncodpers|         fecha_dato|ind_ahor_fin_ult1|ind_aval_fin_ult1|ind_cco_fin_ult1|ind_cder_fin_ult1|ind_cno_fin_ult1|ind_ctju_fin_ult1|ind_ctma_fin_ult1|ind_ctop_fin_ult1|ind_ctpp_fin_ult1|ind_deco_fin_ult1|ind_deme_fin_ult1|ind_dela_fin_ult1|ind_ecue_fin_ult1|ind_fond_fin_ult1|ind_hip_fin_ult1|ind_plan_fin_ult1|ind_pres_fin_ult1|ind_reca_fin_ult1|ind_tjcr_fin_ult1|ind_valo_fin_ult1|ind_viv_fin_ult1|ind_nomina_ult1|ind_nom_pens_ult1|ind_recibo_ult1|\n",
      "+---------+-------------------+-----------------+-----------------+----------------+-----------------+----------------+-----------------+-----------------+-----------------+-----------------+-----------------+-----------------+-----------------+-----------------+-----------------+----------------+-----------------+-----------------+-----------------+-----------------+-----------------+----------------+---------------+-----------------+---------------+\n",
      "|1375586.0|2015-01-28 00:00:00|                0|                0|               1|                0|               0|                0|                0|                0|                0|                0|                0|                0|                0|                0|               0|                0|                0|                0|                0|                0|               0|              0|                0|              0|\n",
      "|1050611.0|2015-01-28 00:00:00|                0|                0|               1|                0|               0|                0|                0|                0|                0|                0|                0|                0|                0|                0|               0|                0|                0|                0|                0|                0|               0|              0|                0|              0|\n",
      "|1050612.0|2015-01-28 00:00:00|                0|                0|               1|                0|               0|                0|                0|                0|                0|                0|                0|                0|                0|                0|               0|                0|                0|                0|                0|                0|               0|              0|                0|              0|\n",
      "|1050613.0|2015-01-28 00:00:00|                0|                0|               0|                0|               0|                0|                0|                0|                0|                1|                0|                0|                0|                0|               0|                0|                0|                0|                0|                0|               0|              0|                0|              0|\n",
      "|1050614.0|2015-01-28 00:00:00|                0|                0|               1|                0|               0|                0|                0|                0|                0|                0|                0|                0|                0|                0|               0|                0|                0|                0|                0|                0|               0|              0|                0|              0|\n",
      "+---------+-------------------+-----------------+-----------------+----------------+-----------------+----------------+-----------------+-----------------+-----------------+-----------------+-----------------+-----------------+-----------------+-----------------+-----------------+----------------+-----------------+-----------------+-----------------+-----------------+-----------------+----------------+---------------+-----------------+---------------+\n",
      "only showing top 5 rows\n",
      "\n"
     ]
    }
   ],
   "source": [
    "full.show(5)"
   ]
  },
  {
   "cell_type": "code",
   "execution_count": 29,
   "metadata": {},
   "outputs": [],
   "source": [
    "full = full.withColumn(\"ind_nomina_ult1\",col(\"ind_nomina_ult1\").cast(IntegerType())).withColumn(\"ind_nom_pens_ult1\",col(\"ind_nom_pens_ult1\").cast(IntegerType()))"
   ]
  },
  {
   "cell_type": "code",
   "execution_count": 30,
   "metadata": {},
   "outputs": [],
   "source": [
    "df=full[(full['fecha_dato']=='2015-06-28')].select('ncodpers','ind_ahor_fin_ult1', 'ind_aval_fin_ult1', \n",
    "                                                 'ind_cco_fin_ult1', 'ind_cder_fin_ult1', 'ind_cno_fin_ult1', \n",
    "                                                 'ind_ctju_fin_ult1', 'ind_ctma_fin_ult1', 'ind_ctop_fin_ult1', \n",
    "                                                 'ind_ctpp_fin_ult1', 'ind_deco_fin_ult1', 'ind_deme_fin_ult1', \n",
    "                                                 'ind_dela_fin_ult1', 'ind_ecue_fin_ult1', 'ind_fond_fin_ult1', \n",
    "                                                 'ind_hip_fin_ult1', 'ind_plan_fin_ult1', 'ind_pres_fin_ult1', \n",
    "                                                 'ind_reca_fin_ult1', 'ind_tjcr_fin_ult1', 'ind_valo_fin_ult1', \n",
    "                                                 'ind_viv_fin_ult1', 'ind_nomina_ult1', 'ind_nom_pens_ult1', \n",
    "                                                 'ind_recibo_ult1')\n",
    " \n",
    "df_val=full[full['fecha_dato']=='2016-05-28'].select('ncodpers','ind_ahor_fin_ult1', 'ind_aval_fin_ult1', \n",
    "                                                 'ind_cco_fin_ult1', 'ind_cder_fin_ult1', 'ind_cno_fin_ult1', \n",
    "                                                 'ind_ctju_fin_ult1', 'ind_ctma_fin_ult1', 'ind_ctop_fin_ult1', \n",
    "                                                 'ind_ctpp_fin_ult1', 'ind_deco_fin_ult1', 'ind_deme_fin_ult1', \n",
    "                                                 'ind_dela_fin_ult1', 'ind_ecue_fin_ult1', 'ind_fond_fin_ult1', \n",
    "                                                 'ind_hip_fin_ult1', 'ind_plan_fin_ult1', 'ind_pres_fin_ult1', \n",
    "                                                 'ind_reca_fin_ult1', 'ind_tjcr_fin_ult1', 'ind_valo_fin_ult1', \n",
    "                                                 'ind_viv_fin_ult1', 'ind_nomina_ult1', 'ind_nom_pens_ult1', \n",
    "                                                 'ind_recibo_ult1')"
   ]
  },
  {
   "cell_type": "code",
   "execution_count": 31,
   "metadata": {},
   "outputs": [
    {
     "name": "stdout",
     "output_type": "stream",
     "text": [
      "root\n",
      " |-- ncodpers: double (nullable = true)\n",
      " |-- ind_ahor_fin_ult1: integer (nullable = true)\n",
      " |-- ind_aval_fin_ult1: integer (nullable = true)\n",
      " |-- ind_cco_fin_ult1: integer (nullable = true)\n",
      " |-- ind_cder_fin_ult1: integer (nullable = true)\n",
      " |-- ind_cno_fin_ult1: integer (nullable = true)\n",
      " |-- ind_ctju_fin_ult1: integer (nullable = true)\n",
      " |-- ind_ctma_fin_ult1: integer (nullable = true)\n",
      " |-- ind_ctop_fin_ult1: integer (nullable = true)\n",
      " |-- ind_ctpp_fin_ult1: integer (nullable = true)\n",
      " |-- ind_deco_fin_ult1: integer (nullable = true)\n",
      " |-- ind_deme_fin_ult1: integer (nullable = true)\n",
      " |-- ind_dela_fin_ult1: integer (nullable = true)\n",
      " |-- ind_ecue_fin_ult1: integer (nullable = true)\n",
      " |-- ind_fond_fin_ult1: integer (nullable = true)\n",
      " |-- ind_hip_fin_ult1: integer (nullable = true)\n",
      " |-- ind_plan_fin_ult1: integer (nullable = true)\n",
      " |-- ind_pres_fin_ult1: integer (nullable = true)\n",
      " |-- ind_reca_fin_ult1: integer (nullable = true)\n",
      " |-- ind_tjcr_fin_ult1: integer (nullable = true)\n",
      " |-- ind_valo_fin_ult1: integer (nullable = true)\n",
      " |-- ind_viv_fin_ult1: integer (nullable = true)\n",
      " |-- ind_nomina_ult1: integer (nullable = true)\n",
      " |-- ind_nom_pens_ult1: integer (nullable = true)\n",
      " |-- ind_recibo_ult1: integer (nullable = true)\n",
      "\n"
     ]
    }
   ],
   "source": [
    "df.printSchema()"
   ]
  },
  {
   "cell_type": "code",
   "execution_count": 32,
   "metadata": {},
   "outputs": [
    {
     "name": "stdout",
     "output_type": "stream",
     "text": [
      "+--------+-----------------+-----------------+----------------+-----------------+----------------+-----------------+-----------------+-----------------+-----------------+-----------------+-----------------+-----------------+-----------------+-----------------+----------------+-----------------+-----------------+-----------------+-----------------+-----------------+----------------+---------------+-----------------+---------------+\n",
      "|ncodpers|ind_ahor_fin_ult1|ind_aval_fin_ult1|ind_cco_fin_ult1|ind_cder_fin_ult1|ind_cno_fin_ult1|ind_ctju_fin_ult1|ind_ctma_fin_ult1|ind_ctop_fin_ult1|ind_ctpp_fin_ult1|ind_deco_fin_ult1|ind_deme_fin_ult1|ind_dela_fin_ult1|ind_ecue_fin_ult1|ind_fond_fin_ult1|ind_hip_fin_ult1|ind_plan_fin_ult1|ind_pres_fin_ult1|ind_reca_fin_ult1|ind_tjcr_fin_ult1|ind_valo_fin_ult1|ind_viv_fin_ult1|ind_nomina_ult1|ind_nom_pens_ult1|ind_recibo_ult1|\n",
      "+--------+-----------------+-----------------+----------------+-----------------+----------------+-----------------+-----------------+-----------------+-----------------+-----------------+-----------------+-----------------+-----------------+-----------------+----------------+-----------------+-----------------+-----------------+-----------------+-----------------+----------------+---------------+-----------------+---------------+\n",
      "|657640.0|                0|                0|               0|                0|               0|                0|                0|                0|                0|                0|                0|                0|                0|                0|               0|                0|                0|                0|                0|                0|               0|           null|             null|              0|\n",
      "|657788.0|                0|                0|               1|                0|               0|                0|                0|                0|                0|                0|                0|                0|                0|                0|               0|                0|                0|                0|                0|                0|               0|           null|             null|              0|\n",
      "|657795.0|                0|                0|               1|                0|               0|                0|                0|                0|                0|                0|                0|                0|                0|                0|               0|                0|                0|                0|                0|                0|               0|           null|             null|              0|\n",
      "|657790.0|                0|                0|               0|                0|               1|                0|                0|                0|                0|                0|                0|                0|                1|                0|               0|                0|                0|                0|                1|                0|               0|           null|             null|              1|\n",
      "+--------+-----------------+-----------------+----------------+-----------------+----------------+-----------------+-----------------+-----------------+-----------------+-----------------+-----------------+-----------------+-----------------+-----------------+----------------+-----------------+-----------------+-----------------+-----------------+-----------------+----------------+---------------+-----------------+---------------+\n",
      "only showing top 4 rows\n",
      "\n"
     ]
    }
   ],
   "source": [
    "df_val.show(4)"
   ]
  },
  {
   "cell_type": "code",
   "execution_count": 33,
   "metadata": {},
   "outputs": [],
   "source": [
    "import pandas as pd\n",
    "lista_users= pd.read_csv(\"F:/JupyterML/ML_Practice/datasets/test_ver2.csv\", usecols=[\"ncodpers\"])"
   ]
  },
  {
   "cell_type": "code",
   "execution_count": 34,
   "metadata": {},
   "outputs": [
    {
     "data": {
      "text/plain": [
       "array([  15889, 1170544, 1170545, 1170547, 1170548, 1170550, 1170552,\n",
       "       1170553, 1170555, 1170557], dtype=int64)"
      ]
     },
     "execution_count": 34,
     "metadata": {},
     "output_type": "execute_result"
    }
   ],
   "source": [
    "lista_users[\"ncodpers\"].values[:10]"
   ]
  },
  {
   "cell_type": "code",
   "execution_count": 35,
   "metadata": {},
   "outputs": [
    {
     "data": {
      "text/plain": [
       "[('ncodpers', 'double'),\n",
       " ('ind_ahor_fin_ult1', 'int'),\n",
       " ('ind_aval_fin_ult1', 'int'),\n",
       " ('ind_cco_fin_ult1', 'int'),\n",
       " ('ind_cder_fin_ult1', 'int'),\n",
       " ('ind_cno_fin_ult1', 'int'),\n",
       " ('ind_ctju_fin_ult1', 'int'),\n",
       " ('ind_ctma_fin_ult1', 'int'),\n",
       " ('ind_ctop_fin_ult1', 'int'),\n",
       " ('ind_ctpp_fin_ult1', 'int'),\n",
       " ('ind_deco_fin_ult1', 'int'),\n",
       " ('ind_deme_fin_ult1', 'int'),\n",
       " ('ind_dela_fin_ult1', 'int'),\n",
       " ('ind_ecue_fin_ult1', 'int'),\n",
       " ('ind_fond_fin_ult1', 'int'),\n",
       " ('ind_hip_fin_ult1', 'int'),\n",
       " ('ind_plan_fin_ult1', 'int'),\n",
       " ('ind_pres_fin_ult1', 'int'),\n",
       " ('ind_reca_fin_ult1', 'int'),\n",
       " ('ind_tjcr_fin_ult1', 'int'),\n",
       " ('ind_valo_fin_ult1', 'int'),\n",
       " ('ind_viv_fin_ult1', 'int'),\n",
       " ('ind_nomina_ult1', 'int'),\n",
       " ('ind_nom_pens_ult1', 'int'),\n",
       " ('ind_recibo_ult1', 'int')]"
      ]
     },
     "execution_count": 35,
     "metadata": {},
     "output_type": "execute_result"
    }
   ],
   "source": [
    "df_val.dtypes\n"
   ]
  },
  {
   "cell_type": "code",
   "execution_count": 36,
   "metadata": {},
   "outputs": [
    {
     "data": {
      "text/plain": [
       "['ncodpers',\n",
       " 'ind_ahor_fin_ult1',\n",
       " 'ind_aval_fin_ult1',\n",
       " 'ind_cco_fin_ult1',\n",
       " 'ind_cder_fin_ult1',\n",
       " 'ind_cno_fin_ult1',\n",
       " 'ind_ctju_fin_ult1',\n",
       " 'ind_ctma_fin_ult1',\n",
       " 'ind_ctop_fin_ult1',\n",
       " 'ind_ctpp_fin_ult1',\n",
       " 'ind_deco_fin_ult1',\n",
       " 'ind_deme_fin_ult1',\n",
       " 'ind_dela_fin_ult1',\n",
       " 'ind_ecue_fin_ult1',\n",
       " 'ind_fond_fin_ult1',\n",
       " 'ind_hip_fin_ult1',\n",
       " 'ind_plan_fin_ult1',\n",
       " 'ind_pres_fin_ult1',\n",
       " 'ind_reca_fin_ult1',\n",
       " 'ind_tjcr_fin_ult1',\n",
       " 'ind_valo_fin_ult1',\n",
       " 'ind_viv_fin_ult1',\n",
       " 'ind_nomina_ult1',\n",
       " 'ind_nom_pens_ult1',\n",
       " 'ind_recibo_ult1']"
      ]
     },
     "execution_count": 36,
     "metadata": {},
     "output_type": "execute_result"
    }
   ],
   "source": [
    "df_val.columns"
   ]
  },
  {
   "cell_type": "code",
   "execution_count": 43,
   "metadata": {},
   "outputs": [],
   "source": [
    "rat_list = ['ind_ahor_fin_ult1','ind_aval_fin_ult1','ind_cco_fin_ult1','ind_cder_fin_ult1','ind_cno_fin_ult1','ind_ctju_fin_ult1','ind_ctma_fin_ult1','ind_ctop_fin_ult1','ind_ctpp_fin_ult1','ind_deco_fin_ult1','ind_deme_fin_ult1','ind_dela_fin_ult1','ind_ecue_fin_ult1','ind_fond_fin_ult1','ind_hip_fin_ult1','ind_plan_fin_ult1','ind_pres_fin_ult1','ind_reca_fin_ult1','ind_tjcr_fin_ult1','ind_valo_fin_ult1','ind_viv_fin_ult1','ind_nomina_ult1','ind_nom_pens_ult1','ind_recibo_ult1']"
   ]
  },
  {
   "cell_type": "code",
   "execution_count": 44,
   "metadata": {},
   "outputs": [],
   "source": [
    "from pyspark.ml.feature import VectorAssembler\n",
    "vectorAssembler = VectorAssembler(inputCols=rat_list, outputCol='features')"
   ]
  },
  {
   "cell_type": "code",
   "execution_count": 46,
   "metadata": {},
   "outputs": [
    {
     "data": {
      "text/plain": [
       "['ncodpers',\n",
       " 'ind_ahor_fin_ult1',\n",
       " 'ind_aval_fin_ult1',\n",
       " 'ind_cco_fin_ult1',\n",
       " 'ind_cder_fin_ult1',\n",
       " 'ind_cno_fin_ult1',\n",
       " 'ind_ctju_fin_ult1',\n",
       " 'ind_ctma_fin_ult1',\n",
       " 'ind_ctop_fin_ult1',\n",
       " 'ind_ctpp_fin_ult1',\n",
       " 'ind_deco_fin_ult1',\n",
       " 'ind_deme_fin_ult1',\n",
       " 'ind_dela_fin_ult1',\n",
       " 'ind_ecue_fin_ult1',\n",
       " 'ind_fond_fin_ult1',\n",
       " 'ind_hip_fin_ult1',\n",
       " 'ind_plan_fin_ult1',\n",
       " 'ind_pres_fin_ult1',\n",
       " 'ind_reca_fin_ult1',\n",
       " 'ind_tjcr_fin_ult1',\n",
       " 'ind_valo_fin_ult1',\n",
       " 'ind_viv_fin_ult1',\n",
       " 'ind_nomina_ult1',\n",
       " 'ind_nom_pens_ult1',\n",
       " 'ind_recibo_ult1',\n",
       " 'features']"
      ]
     },
     "execution_count": 46,
     "metadata": {},
     "output_type": "execute_result"
    }
   ],
   "source": [
    "df_val1 = vectorAssembler.transform(df_val)\n",
    "df_val1.columns"
   ]
  },
  {
   "cell_type": "code",
   "execution_count": 51,
   "metadata": {},
   "outputs": [
    {
     "ename": "Py4JJavaError",
     "evalue": "An error occurred while calling o729.showString.\n: org.apache.spark.SparkException: Job aborted due to stage failure: Task 11 in stage 28.0 failed 1 times, most recent failure: Lost task 11.0 in stage 28.0 (TID 166, localhost, executor driver): org.apache.spark.SparkException: Failed to execute user defined function($anonfun$4: (struct<ind_ahor_fin_ult1_double_VectorAssembler_f72e65550c01:double,ind_aval_fin_ult1_double_VectorAssembler_f72e65550c01:double,ind_cco_fin_ult1_double_VectorAssembler_f72e65550c01:double,ind_cder_fin_ult1_double_VectorAssembler_f72e65550c01:double,ind_cno_fin_ult1_double_VectorAssembler_f72e65550c01:double,ind_ctju_fin_ult1_double_VectorAssembler_f72e65550c01:double,ind_ctma_fin_ult1_double_VectorAssembler_f72e65550c01:double,ind_ctop_fin_ult1_double_VectorAssembler_f72e65550c01:double,ind_ctpp_fin_ult1_double_VectorAssembler_f72e65550c01:double,ind_deco_fin_ult1_double_VectorAssembler_f72e65550c01:double,ind_deme_fin_ult1_double_VectorAssembler_f72e65550c01:double,ind_dela_fin_ult1_double_VectorAssembler_f72e65550c01:double,ind_ecue_fin_ult1_double_VectorAssembler_f72e65550c01:double,ind_fond_fin_ult1_double_VectorAssembler_f72e65550c01:double,ind_hip_fin_ult1_double_VectorAssembler_f72e65550c01:double,ind_plan_fin_ult1_double_VectorAssembler_f72e65550c01:double,ind_pres_fin_ult1_double_VectorAssembler_f72e65550c01:double,ind_reca_fin_ult1_double_VectorAssembler_f72e65550c01:double,ind_tjcr_fin_ult1_double_VectorAssembler_f72e65550c01:double,ind_valo_fin_ult1_double_VectorAssembler_f72e65550c01:double,ind_viv_fin_ult1_double_VectorAssembler_f72e65550c01:double,ind_nomina_ult1_double_VectorAssembler_f72e65550c01:double,ind_nom_pens_ult1_double_VectorAssembler_f72e65550c01:double,ind_recibo_ult1_double_VectorAssembler_f72e65550c01:double>) => struct<type:tinyint,size:int,indices:array<int>,values:array<double>>)\r\n\tat org.apache.spark.sql.catalyst.expressions.GeneratedClass$GeneratedIteratorForCodegenStage1.processNext(Unknown Source)\r\n\tat org.apache.spark.sql.execution.BufferedRowIterator.hasNext(BufferedRowIterator.java:43)\r\n\tat org.apache.spark.sql.execution.WholeStageCodegenExec$$anonfun$11$$anon$1.hasNext(WholeStageCodegenExec.scala:619)\r\n\tat org.apache.spark.sql.execution.SparkPlan$$anonfun$2.apply(SparkPlan.scala:255)\r\n\tat org.apache.spark.sql.execution.SparkPlan$$anonfun$2.apply(SparkPlan.scala:247)\r\n\tat org.apache.spark.rdd.RDD$$anonfun$mapPartitionsInternal$1$$anonfun$apply$24.apply(RDD.scala:836)\r\n\tat org.apache.spark.rdd.RDD$$anonfun$mapPartitionsInternal$1$$anonfun$apply$24.apply(RDD.scala:836)\r\n\tat org.apache.spark.rdd.MapPartitionsRDD.compute(MapPartitionsRDD.scala:52)\r\n\tat org.apache.spark.rdd.RDD.computeOrReadCheckpoint(RDD.scala:324)\r\n\tat org.apache.spark.rdd.RDD.iterator(RDD.scala:288)\r\n\tat org.apache.spark.rdd.MapPartitionsRDD.compute(MapPartitionsRDD.scala:52)\r\n\tat org.apache.spark.rdd.RDD.computeOrReadCheckpoint(RDD.scala:324)\r\n\tat org.apache.spark.rdd.RDD.iterator(RDD.scala:288)\r\n\tat org.apache.spark.scheduler.ResultTask.runTask(ResultTask.scala:90)\r\n\tat org.apache.spark.scheduler.Task.run(Task.scala:121)\r\n\tat org.apache.spark.executor.Executor$TaskRunner$$anonfun$10.apply(Executor.scala:402)\r\n\tat org.apache.spark.util.Utils$.tryWithSafeFinally(Utils.scala:1360)\r\n\tat org.apache.spark.executor.Executor$TaskRunner.run(Executor.scala:408)\r\n\tat java.util.concurrent.ThreadPoolExecutor.runWorker(ThreadPoolExecutor.java:1142)\r\n\tat java.util.concurrent.ThreadPoolExecutor$Worker.run(ThreadPoolExecutor.java:617)\r\n\tat java.lang.Thread.run(Thread.java:745)\r\nCaused by: org.apache.spark.SparkException: Encountered null while assembling a row with handleInvalid = \"keep\". Consider\nremoving nulls from dataset or using handleInvalid = \"keep\" or \"skip\".\r\n\tat org.apache.spark.ml.feature.VectorAssembler$$anonfun$assemble$1.apply(VectorAssembler.scala:287)\r\n\tat org.apache.spark.ml.feature.VectorAssembler$$anonfun$assemble$1.apply(VectorAssembler.scala:255)\r\n\tat scala.collection.IndexedSeqOptimized$class.foreach(IndexedSeqOptimized.scala:33)\r\n\tat scala.collection.mutable.WrappedArray.foreach(WrappedArray.scala:35)\r\n\tat org.apache.spark.ml.feature.VectorAssembler$.assemble(VectorAssembler.scala:255)\r\n\tat org.apache.spark.ml.feature.VectorAssembler$$anonfun$4.apply(VectorAssembler.scala:144)\r\n\tat org.apache.spark.ml.feature.VectorAssembler$$anonfun$4.apply(VectorAssembler.scala:143)\r\n\t... 21 more\r\n\nDriver stacktrace:\r\n\tat org.apache.spark.scheduler.DAGScheduler.org$apache$spark$scheduler$DAGScheduler$$failJobAndIndependentStages(DAGScheduler.scala:1887)\r\n\tat org.apache.spark.scheduler.DAGScheduler$$anonfun$abortStage$1.apply(DAGScheduler.scala:1875)\r\n\tat org.apache.spark.scheduler.DAGScheduler$$anonfun$abortStage$1.apply(DAGScheduler.scala:1874)\r\n\tat scala.collection.mutable.ResizableArray$class.foreach(ResizableArray.scala:59)\r\n\tat scala.collection.mutable.ArrayBuffer.foreach(ArrayBuffer.scala:48)\r\n\tat org.apache.spark.scheduler.DAGScheduler.abortStage(DAGScheduler.scala:1874)\r\n\tat org.apache.spark.scheduler.DAGScheduler$$anonfun$handleTaskSetFailed$1.apply(DAGScheduler.scala:926)\r\n\tat org.apache.spark.scheduler.DAGScheduler$$anonfun$handleTaskSetFailed$1.apply(DAGScheduler.scala:926)\r\n\tat scala.Option.foreach(Option.scala:257)\r\n\tat org.apache.spark.scheduler.DAGScheduler.handleTaskSetFailed(DAGScheduler.scala:926)\r\n\tat org.apache.spark.scheduler.DAGSchedulerEventProcessLoop.doOnReceive(DAGScheduler.scala:2108)\r\n\tat org.apache.spark.scheduler.DAGSchedulerEventProcessLoop.onReceive(DAGScheduler.scala:2057)\r\n\tat org.apache.spark.scheduler.DAGSchedulerEventProcessLoop.onReceive(DAGScheduler.scala:2046)\r\n\tat org.apache.spark.util.EventLoop$$anon$1.run(EventLoop.scala:49)\r\n\tat org.apache.spark.scheduler.DAGScheduler.runJob(DAGScheduler.scala:737)\r\n\tat org.apache.spark.SparkContext.runJob(SparkContext.scala:2061)\r\n\tat org.apache.spark.SparkContext.runJob(SparkContext.scala:2082)\r\n\tat org.apache.spark.SparkContext.runJob(SparkContext.scala:2101)\r\n\tat org.apache.spark.sql.execution.SparkPlan.executeTake(SparkPlan.scala:365)\r\n\tat org.apache.spark.sql.execution.CollectLimitExec.executeCollect(limit.scala:38)\r\n\tat org.apache.spark.sql.Dataset.org$apache$spark$sql$Dataset$$collectFromPlan(Dataset.scala:3384)\r\n\tat org.apache.spark.sql.Dataset$$anonfun$head$1.apply(Dataset.scala:2545)\r\n\tat org.apache.spark.sql.Dataset$$anonfun$head$1.apply(Dataset.scala:2545)\r\n\tat org.apache.spark.sql.Dataset$$anonfun$53.apply(Dataset.scala:3365)\r\n\tat org.apache.spark.sql.execution.SQLExecution$$anonfun$withNewExecutionId$1.apply(SQLExecution.scala:78)\r\n\tat org.apache.spark.sql.execution.SQLExecution$.withSQLConfPropagated(SQLExecution.scala:125)\r\n\tat org.apache.spark.sql.execution.SQLExecution$.withNewExecutionId(SQLExecution.scala:73)\r\n\tat org.apache.spark.sql.Dataset.withAction(Dataset.scala:3364)\r\n\tat org.apache.spark.sql.Dataset.head(Dataset.scala:2545)\r\n\tat org.apache.spark.sql.Dataset.take(Dataset.scala:2759)\r\n\tat org.apache.spark.sql.Dataset.getRows(Dataset.scala:255)\r\n\tat org.apache.spark.sql.Dataset.showString(Dataset.scala:292)\r\n\tat sun.reflect.NativeMethodAccessorImpl.invoke0(Native Method)\r\n\tat sun.reflect.NativeMethodAccessorImpl.invoke(NativeMethodAccessorImpl.java:62)\r\n\tat sun.reflect.DelegatingMethodAccessorImpl.invoke(DelegatingMethodAccessorImpl.java:43)\r\n\tat java.lang.reflect.Method.invoke(Method.java:498)\r\n\tat py4j.reflection.MethodInvoker.invoke(MethodInvoker.java:244)\r\n\tat py4j.reflection.ReflectionEngine.invoke(ReflectionEngine.java:357)\r\n\tat py4j.Gateway.invoke(Gateway.java:282)\r\n\tat py4j.commands.AbstractCommand.invokeMethod(AbstractCommand.java:132)\r\n\tat py4j.commands.CallCommand.execute(CallCommand.java:79)\r\n\tat py4j.GatewayConnection.run(GatewayConnection.java:238)\r\n\tat java.lang.Thread.run(Thread.java:745)\r\nCaused by: org.apache.spark.SparkException: Failed to execute user defined function($anonfun$4: (struct<ind_ahor_fin_ult1_double_VectorAssembler_f72e65550c01:double,ind_aval_fin_ult1_double_VectorAssembler_f72e65550c01:double,ind_cco_fin_ult1_double_VectorAssembler_f72e65550c01:double,ind_cder_fin_ult1_double_VectorAssembler_f72e65550c01:double,ind_cno_fin_ult1_double_VectorAssembler_f72e65550c01:double,ind_ctju_fin_ult1_double_VectorAssembler_f72e65550c01:double,ind_ctma_fin_ult1_double_VectorAssembler_f72e65550c01:double,ind_ctop_fin_ult1_double_VectorAssembler_f72e65550c01:double,ind_ctpp_fin_ult1_double_VectorAssembler_f72e65550c01:double,ind_deco_fin_ult1_double_VectorAssembler_f72e65550c01:double,ind_deme_fin_ult1_double_VectorAssembler_f72e65550c01:double,ind_dela_fin_ult1_double_VectorAssembler_f72e65550c01:double,ind_ecue_fin_ult1_double_VectorAssembler_f72e65550c01:double,ind_fond_fin_ult1_double_VectorAssembler_f72e65550c01:double,ind_hip_fin_ult1_double_VectorAssembler_f72e65550c01:double,ind_plan_fin_ult1_double_VectorAssembler_f72e65550c01:double,ind_pres_fin_ult1_double_VectorAssembler_f72e65550c01:double,ind_reca_fin_ult1_double_VectorAssembler_f72e65550c01:double,ind_tjcr_fin_ult1_double_VectorAssembler_f72e65550c01:double,ind_valo_fin_ult1_double_VectorAssembler_f72e65550c01:double,ind_viv_fin_ult1_double_VectorAssembler_f72e65550c01:double,ind_nomina_ult1_double_VectorAssembler_f72e65550c01:double,ind_nom_pens_ult1_double_VectorAssembler_f72e65550c01:double,ind_recibo_ult1_double_VectorAssembler_f72e65550c01:double>) => struct<type:tinyint,size:int,indices:array<int>,values:array<double>>)\r\n\tat org.apache.spark.sql.catalyst.expressions.GeneratedClass$GeneratedIteratorForCodegenStage1.processNext(Unknown Source)\r\n\tat org.apache.spark.sql.execution.BufferedRowIterator.hasNext(BufferedRowIterator.java:43)\r\n\tat org.apache.spark.sql.execution.WholeStageCodegenExec$$anonfun$11$$anon$1.hasNext(WholeStageCodegenExec.scala:619)\r\n\tat org.apache.spark.sql.execution.SparkPlan$$anonfun$2.apply(SparkPlan.scala:255)\r\n\tat org.apache.spark.sql.execution.SparkPlan$$anonfun$2.apply(SparkPlan.scala:247)\r\n\tat org.apache.spark.rdd.RDD$$anonfun$mapPartitionsInternal$1$$anonfun$apply$24.apply(RDD.scala:836)\r\n\tat org.apache.spark.rdd.RDD$$anonfun$mapPartitionsInternal$1$$anonfun$apply$24.apply(RDD.scala:836)\r\n\tat org.apache.spark.rdd.MapPartitionsRDD.compute(MapPartitionsRDD.scala:52)\r\n\tat org.apache.spark.rdd.RDD.computeOrReadCheckpoint(RDD.scala:324)\r\n\tat org.apache.spark.rdd.RDD.iterator(RDD.scala:288)\r\n\tat org.apache.spark.rdd.MapPartitionsRDD.compute(MapPartitionsRDD.scala:52)\r\n\tat org.apache.spark.rdd.RDD.computeOrReadCheckpoint(RDD.scala:324)\r\n\tat org.apache.spark.rdd.RDD.iterator(RDD.scala:288)\r\n\tat org.apache.spark.scheduler.ResultTask.runTask(ResultTask.scala:90)\r\n\tat org.apache.spark.scheduler.Task.run(Task.scala:121)\r\n\tat org.apache.spark.executor.Executor$TaskRunner$$anonfun$10.apply(Executor.scala:402)\r\n\tat org.apache.spark.util.Utils$.tryWithSafeFinally(Utils.scala:1360)\r\n\tat org.apache.spark.executor.Executor$TaskRunner.run(Executor.scala:408)\r\n\tat java.util.concurrent.ThreadPoolExecutor.runWorker(ThreadPoolExecutor.java:1142)\r\n\tat java.util.concurrent.ThreadPoolExecutor$Worker.run(ThreadPoolExecutor.java:617)\r\n\t... 1 more\r\nCaused by: org.apache.spark.SparkException: Encountered null while assembling a row with handleInvalid = \"keep\". Consider\nremoving nulls from dataset or using handleInvalid = \"keep\" or \"skip\".\r\n\tat org.apache.spark.ml.feature.VectorAssembler$$anonfun$assemble$1.apply(VectorAssembler.scala:287)\r\n\tat org.apache.spark.ml.feature.VectorAssembler$$anonfun$assemble$1.apply(VectorAssembler.scala:255)\r\n\tat scala.collection.IndexedSeqOptimized$class.foreach(IndexedSeqOptimized.scala:33)\r\n\tat scala.collection.mutable.WrappedArray.foreach(WrappedArray.scala:35)\r\n\tat org.apache.spark.ml.feature.VectorAssembler$.assemble(VectorAssembler.scala:255)\r\n\tat org.apache.spark.ml.feature.VectorAssembler$$anonfun$4.apply(VectorAssembler.scala:144)\r\n\tat org.apache.spark.ml.feature.VectorAssembler$$anonfun$4.apply(VectorAssembler.scala:143)\r\n\t... 21 more\r\n",
     "output_type": "error",
     "traceback": [
      "\u001b[1;31m---------------------------------------------------------------------------\u001b[0m",
      "\u001b[1;31mPy4JJavaError\u001b[0m                             Traceback (most recent call last)",
      "\u001b[1;32m<ipython-input-51-ac371a1f68a6>\u001b[0m in \u001b[0;36m<module>\u001b[1;34m()\u001b[0m\n\u001b[0;32m      1\u001b[0m \u001b[0mdf_val2\u001b[0m \u001b[1;33m=\u001b[0m\u001b[0mdf_val1\u001b[0m\u001b[1;33m\u001b[0m\u001b[0m\n\u001b[1;32m----> 2\u001b[1;33m \u001b[0mdf_val2\u001b[0m\u001b[1;33m.\u001b[0m\u001b[0mselect\u001b[0m\u001b[1;33m(\u001b[0m\u001b[1;34m'features'\u001b[0m\u001b[1;33m)\u001b[0m\u001b[1;33m.\u001b[0m\u001b[0mshow\u001b[0m\u001b[1;33m(\u001b[0m\u001b[1;36m4\u001b[0m\u001b[1;33m)\u001b[0m\u001b[1;33m\u001b[0m\u001b[0m\n\u001b[0m",
      "\u001b[1;32mF:\\spark-2.4.0-bin-hadoop2.7\\spark-2.4.0-bin-hadoop2.7\\python\\pyspark\\sql\\dataframe.py\u001b[0m in \u001b[0;36mshow\u001b[1;34m(self, n, truncate, vertical)\u001b[0m\n\u001b[0;32m    376\u001b[0m         \"\"\"\n\u001b[0;32m    377\u001b[0m         \u001b[1;32mif\u001b[0m \u001b[0misinstance\u001b[0m\u001b[1;33m(\u001b[0m\u001b[0mtruncate\u001b[0m\u001b[1;33m,\u001b[0m \u001b[0mbool\u001b[0m\u001b[1;33m)\u001b[0m \u001b[1;32mand\u001b[0m \u001b[0mtruncate\u001b[0m\u001b[1;33m:\u001b[0m\u001b[1;33m\u001b[0m\u001b[0m\n\u001b[1;32m--> 378\u001b[1;33m             \u001b[0mprint\u001b[0m\u001b[1;33m(\u001b[0m\u001b[0mself\u001b[0m\u001b[1;33m.\u001b[0m\u001b[0m_jdf\u001b[0m\u001b[1;33m.\u001b[0m\u001b[0mshowString\u001b[0m\u001b[1;33m(\u001b[0m\u001b[0mn\u001b[0m\u001b[1;33m,\u001b[0m \u001b[1;36m20\u001b[0m\u001b[1;33m,\u001b[0m \u001b[0mvertical\u001b[0m\u001b[1;33m)\u001b[0m\u001b[1;33m)\u001b[0m\u001b[1;33m\u001b[0m\u001b[0m\n\u001b[0m\u001b[0;32m    379\u001b[0m         \u001b[1;32melse\u001b[0m\u001b[1;33m:\u001b[0m\u001b[1;33m\u001b[0m\u001b[0m\n\u001b[0;32m    380\u001b[0m             \u001b[0mprint\u001b[0m\u001b[1;33m(\u001b[0m\u001b[0mself\u001b[0m\u001b[1;33m.\u001b[0m\u001b[0m_jdf\u001b[0m\u001b[1;33m.\u001b[0m\u001b[0mshowString\u001b[0m\u001b[1;33m(\u001b[0m\u001b[0mn\u001b[0m\u001b[1;33m,\u001b[0m \u001b[0mint\u001b[0m\u001b[1;33m(\u001b[0m\u001b[0mtruncate\u001b[0m\u001b[1;33m)\u001b[0m\u001b[1;33m,\u001b[0m \u001b[0mvertical\u001b[0m\u001b[1;33m)\u001b[0m\u001b[1;33m)\u001b[0m\u001b[1;33m\u001b[0m\u001b[0m\n",
      "\u001b[1;32mF:\\Anaconda3\\lib\\site-packages\\py4j\\java_gateway.py\u001b[0m in \u001b[0;36m__call__\u001b[1;34m(self, *args)\u001b[0m\n\u001b[0;32m   1284\u001b[0m         \u001b[0manswer\u001b[0m \u001b[1;33m=\u001b[0m \u001b[0mself\u001b[0m\u001b[1;33m.\u001b[0m\u001b[0mgateway_client\u001b[0m\u001b[1;33m.\u001b[0m\u001b[0msend_command\u001b[0m\u001b[1;33m(\u001b[0m\u001b[0mcommand\u001b[0m\u001b[1;33m)\u001b[0m\u001b[1;33m\u001b[0m\u001b[0m\n\u001b[0;32m   1285\u001b[0m         return_value = get_return_value(\n\u001b[1;32m-> 1286\u001b[1;33m             answer, self.gateway_client, self.target_id, self.name)\n\u001b[0m\u001b[0;32m   1287\u001b[0m \u001b[1;33m\u001b[0m\u001b[0m\n\u001b[0;32m   1288\u001b[0m         \u001b[1;32mfor\u001b[0m \u001b[0mtemp_arg\u001b[0m \u001b[1;32min\u001b[0m \u001b[0mtemp_args\u001b[0m\u001b[1;33m:\u001b[0m\u001b[1;33m\u001b[0m\u001b[0m\n",
      "\u001b[1;32mF:\\spark-2.4.0-bin-hadoop2.7\\spark-2.4.0-bin-hadoop2.7\\python\\pyspark\\sql\\utils.py\u001b[0m in \u001b[0;36mdeco\u001b[1;34m(*a, **kw)\u001b[0m\n\u001b[0;32m     61\u001b[0m     \u001b[1;32mdef\u001b[0m \u001b[0mdeco\u001b[0m\u001b[1;33m(\u001b[0m\u001b[1;33m*\u001b[0m\u001b[0ma\u001b[0m\u001b[1;33m,\u001b[0m \u001b[1;33m**\u001b[0m\u001b[0mkw\u001b[0m\u001b[1;33m)\u001b[0m\u001b[1;33m:\u001b[0m\u001b[1;33m\u001b[0m\u001b[0m\n\u001b[0;32m     62\u001b[0m         \u001b[1;32mtry\u001b[0m\u001b[1;33m:\u001b[0m\u001b[1;33m\u001b[0m\u001b[0m\n\u001b[1;32m---> 63\u001b[1;33m             \u001b[1;32mreturn\u001b[0m \u001b[0mf\u001b[0m\u001b[1;33m(\u001b[0m\u001b[1;33m*\u001b[0m\u001b[0ma\u001b[0m\u001b[1;33m,\u001b[0m \u001b[1;33m**\u001b[0m\u001b[0mkw\u001b[0m\u001b[1;33m)\u001b[0m\u001b[1;33m\u001b[0m\u001b[0m\n\u001b[0m\u001b[0;32m     64\u001b[0m         \u001b[1;32mexcept\u001b[0m \u001b[0mpy4j\u001b[0m\u001b[1;33m.\u001b[0m\u001b[0mprotocol\u001b[0m\u001b[1;33m.\u001b[0m\u001b[0mPy4JJavaError\u001b[0m \u001b[1;32mas\u001b[0m \u001b[0me\u001b[0m\u001b[1;33m:\u001b[0m\u001b[1;33m\u001b[0m\u001b[0m\n\u001b[0;32m     65\u001b[0m             \u001b[0ms\u001b[0m \u001b[1;33m=\u001b[0m \u001b[0me\u001b[0m\u001b[1;33m.\u001b[0m\u001b[0mjava_exception\u001b[0m\u001b[1;33m.\u001b[0m\u001b[0mtoString\u001b[0m\u001b[1;33m(\u001b[0m\u001b[1;33m)\u001b[0m\u001b[1;33m\u001b[0m\u001b[0m\n",
      "\u001b[1;32mF:\\Anaconda3\\lib\\site-packages\\py4j\\protocol.py\u001b[0m in \u001b[0;36mget_return_value\u001b[1;34m(answer, gateway_client, target_id, name)\u001b[0m\n\u001b[0;32m    326\u001b[0m                 raise Py4JJavaError(\n\u001b[0;32m    327\u001b[0m                     \u001b[1;34m\"An error occurred while calling {0}{1}{2}.\\n\"\u001b[0m\u001b[1;33m.\u001b[0m\u001b[1;33m\u001b[0m\u001b[0m\n\u001b[1;32m--> 328\u001b[1;33m                     format(target_id, \".\", name), value)\n\u001b[0m\u001b[0;32m    329\u001b[0m             \u001b[1;32melse\u001b[0m\u001b[1;33m:\u001b[0m\u001b[1;33m\u001b[0m\u001b[0m\n\u001b[0;32m    330\u001b[0m                 raise Py4JError(\n",
      "\u001b[1;31mPy4JJavaError\u001b[0m: An error occurred while calling o729.showString.\n: org.apache.spark.SparkException: Job aborted due to stage failure: Task 11 in stage 28.0 failed 1 times, most recent failure: Lost task 11.0 in stage 28.0 (TID 166, localhost, executor driver): org.apache.spark.SparkException: Failed to execute user defined function($anonfun$4: (struct<ind_ahor_fin_ult1_double_VectorAssembler_f72e65550c01:double,ind_aval_fin_ult1_double_VectorAssembler_f72e65550c01:double,ind_cco_fin_ult1_double_VectorAssembler_f72e65550c01:double,ind_cder_fin_ult1_double_VectorAssembler_f72e65550c01:double,ind_cno_fin_ult1_double_VectorAssembler_f72e65550c01:double,ind_ctju_fin_ult1_double_VectorAssembler_f72e65550c01:double,ind_ctma_fin_ult1_double_VectorAssembler_f72e65550c01:double,ind_ctop_fin_ult1_double_VectorAssembler_f72e65550c01:double,ind_ctpp_fin_ult1_double_VectorAssembler_f72e65550c01:double,ind_deco_fin_ult1_double_VectorAssembler_f72e65550c01:double,ind_deme_fin_ult1_double_VectorAssembler_f72e65550c01:double,ind_dela_fin_ult1_double_VectorAssembler_f72e65550c01:double,ind_ecue_fin_ult1_double_VectorAssembler_f72e65550c01:double,ind_fond_fin_ult1_double_VectorAssembler_f72e65550c01:double,ind_hip_fin_ult1_double_VectorAssembler_f72e65550c01:double,ind_plan_fin_ult1_double_VectorAssembler_f72e65550c01:double,ind_pres_fin_ult1_double_VectorAssembler_f72e65550c01:double,ind_reca_fin_ult1_double_VectorAssembler_f72e65550c01:double,ind_tjcr_fin_ult1_double_VectorAssembler_f72e65550c01:double,ind_valo_fin_ult1_double_VectorAssembler_f72e65550c01:double,ind_viv_fin_ult1_double_VectorAssembler_f72e65550c01:double,ind_nomina_ult1_double_VectorAssembler_f72e65550c01:double,ind_nom_pens_ult1_double_VectorAssembler_f72e65550c01:double,ind_recibo_ult1_double_VectorAssembler_f72e65550c01:double>) => struct<type:tinyint,size:int,indices:array<int>,values:array<double>>)\r\n\tat org.apache.spark.sql.catalyst.expressions.GeneratedClass$GeneratedIteratorForCodegenStage1.processNext(Unknown Source)\r\n\tat org.apache.spark.sql.execution.BufferedRowIterator.hasNext(BufferedRowIterator.java:43)\r\n\tat org.apache.spark.sql.execution.WholeStageCodegenExec$$anonfun$11$$anon$1.hasNext(WholeStageCodegenExec.scala:619)\r\n\tat org.apache.spark.sql.execution.SparkPlan$$anonfun$2.apply(SparkPlan.scala:255)\r\n\tat org.apache.spark.sql.execution.SparkPlan$$anonfun$2.apply(SparkPlan.scala:247)\r\n\tat org.apache.spark.rdd.RDD$$anonfun$mapPartitionsInternal$1$$anonfun$apply$24.apply(RDD.scala:836)\r\n\tat org.apache.spark.rdd.RDD$$anonfun$mapPartitionsInternal$1$$anonfun$apply$24.apply(RDD.scala:836)\r\n\tat org.apache.spark.rdd.MapPartitionsRDD.compute(MapPartitionsRDD.scala:52)\r\n\tat org.apache.spark.rdd.RDD.computeOrReadCheckpoint(RDD.scala:324)\r\n\tat org.apache.spark.rdd.RDD.iterator(RDD.scala:288)\r\n\tat org.apache.spark.rdd.MapPartitionsRDD.compute(MapPartitionsRDD.scala:52)\r\n\tat org.apache.spark.rdd.RDD.computeOrReadCheckpoint(RDD.scala:324)\r\n\tat org.apache.spark.rdd.RDD.iterator(RDD.scala:288)\r\n\tat org.apache.spark.scheduler.ResultTask.runTask(ResultTask.scala:90)\r\n\tat org.apache.spark.scheduler.Task.run(Task.scala:121)\r\n\tat org.apache.spark.executor.Executor$TaskRunner$$anonfun$10.apply(Executor.scala:402)\r\n\tat org.apache.spark.util.Utils$.tryWithSafeFinally(Utils.scala:1360)\r\n\tat org.apache.spark.executor.Executor$TaskRunner.run(Executor.scala:408)\r\n\tat java.util.concurrent.ThreadPoolExecutor.runWorker(ThreadPoolExecutor.java:1142)\r\n\tat java.util.concurrent.ThreadPoolExecutor$Worker.run(ThreadPoolExecutor.java:617)\r\n\tat java.lang.Thread.run(Thread.java:745)\r\nCaused by: org.apache.spark.SparkException: Encountered null while assembling a row with handleInvalid = \"keep\". Consider\nremoving nulls from dataset or using handleInvalid = \"keep\" or \"skip\".\r\n\tat org.apache.spark.ml.feature.VectorAssembler$$anonfun$assemble$1.apply(VectorAssembler.scala:287)\r\n\tat org.apache.spark.ml.feature.VectorAssembler$$anonfun$assemble$1.apply(VectorAssembler.scala:255)\r\n\tat scala.collection.IndexedSeqOptimized$class.foreach(IndexedSeqOptimized.scala:33)\r\n\tat scala.collection.mutable.WrappedArray.foreach(WrappedArray.scala:35)\r\n\tat org.apache.spark.ml.feature.VectorAssembler$.assemble(VectorAssembler.scala:255)\r\n\tat org.apache.spark.ml.feature.VectorAssembler$$anonfun$4.apply(VectorAssembler.scala:144)\r\n\tat org.apache.spark.ml.feature.VectorAssembler$$anonfun$4.apply(VectorAssembler.scala:143)\r\n\t... 21 more\r\n\nDriver stacktrace:\r\n\tat org.apache.spark.scheduler.DAGScheduler.org$apache$spark$scheduler$DAGScheduler$$failJobAndIndependentStages(DAGScheduler.scala:1887)\r\n\tat org.apache.spark.scheduler.DAGScheduler$$anonfun$abortStage$1.apply(DAGScheduler.scala:1875)\r\n\tat org.apache.spark.scheduler.DAGScheduler$$anonfun$abortStage$1.apply(DAGScheduler.scala:1874)\r\n\tat scala.collection.mutable.ResizableArray$class.foreach(ResizableArray.scala:59)\r\n\tat scala.collection.mutable.ArrayBuffer.foreach(ArrayBuffer.scala:48)\r\n\tat org.apache.spark.scheduler.DAGScheduler.abortStage(DAGScheduler.scala:1874)\r\n\tat org.apache.spark.scheduler.DAGScheduler$$anonfun$handleTaskSetFailed$1.apply(DAGScheduler.scala:926)\r\n\tat org.apache.spark.scheduler.DAGScheduler$$anonfun$handleTaskSetFailed$1.apply(DAGScheduler.scala:926)\r\n\tat scala.Option.foreach(Option.scala:257)\r\n\tat org.apache.spark.scheduler.DAGScheduler.handleTaskSetFailed(DAGScheduler.scala:926)\r\n\tat org.apache.spark.scheduler.DAGSchedulerEventProcessLoop.doOnReceive(DAGScheduler.scala:2108)\r\n\tat org.apache.spark.scheduler.DAGSchedulerEventProcessLoop.onReceive(DAGScheduler.scala:2057)\r\n\tat org.apache.spark.scheduler.DAGSchedulerEventProcessLoop.onReceive(DAGScheduler.scala:2046)\r\n\tat org.apache.spark.util.EventLoop$$anon$1.run(EventLoop.scala:49)\r\n\tat org.apache.spark.scheduler.DAGScheduler.runJob(DAGScheduler.scala:737)\r\n\tat org.apache.spark.SparkContext.runJob(SparkContext.scala:2061)\r\n\tat org.apache.spark.SparkContext.runJob(SparkContext.scala:2082)\r\n\tat org.apache.spark.SparkContext.runJob(SparkContext.scala:2101)\r\n\tat org.apache.spark.sql.execution.SparkPlan.executeTake(SparkPlan.scala:365)\r\n\tat org.apache.spark.sql.execution.CollectLimitExec.executeCollect(limit.scala:38)\r\n\tat org.apache.spark.sql.Dataset.org$apache$spark$sql$Dataset$$collectFromPlan(Dataset.scala:3384)\r\n\tat org.apache.spark.sql.Dataset$$anonfun$head$1.apply(Dataset.scala:2545)\r\n\tat org.apache.spark.sql.Dataset$$anonfun$head$1.apply(Dataset.scala:2545)\r\n\tat org.apache.spark.sql.Dataset$$anonfun$53.apply(Dataset.scala:3365)\r\n\tat org.apache.spark.sql.execution.SQLExecution$$anonfun$withNewExecutionId$1.apply(SQLExecution.scala:78)\r\n\tat org.apache.spark.sql.execution.SQLExecution$.withSQLConfPropagated(SQLExecution.scala:125)\r\n\tat org.apache.spark.sql.execution.SQLExecution$.withNewExecutionId(SQLExecution.scala:73)\r\n\tat org.apache.spark.sql.Dataset.withAction(Dataset.scala:3364)\r\n\tat org.apache.spark.sql.Dataset.head(Dataset.scala:2545)\r\n\tat org.apache.spark.sql.Dataset.take(Dataset.scala:2759)\r\n\tat org.apache.spark.sql.Dataset.getRows(Dataset.scala:255)\r\n\tat org.apache.spark.sql.Dataset.showString(Dataset.scala:292)\r\n\tat sun.reflect.NativeMethodAccessorImpl.invoke0(Native Method)\r\n\tat sun.reflect.NativeMethodAccessorImpl.invoke(NativeMethodAccessorImpl.java:62)\r\n\tat sun.reflect.DelegatingMethodAccessorImpl.invoke(DelegatingMethodAccessorImpl.java:43)\r\n\tat java.lang.reflect.Method.invoke(Method.java:498)\r\n\tat py4j.reflection.MethodInvoker.invoke(MethodInvoker.java:244)\r\n\tat py4j.reflection.ReflectionEngine.invoke(ReflectionEngine.java:357)\r\n\tat py4j.Gateway.invoke(Gateway.java:282)\r\n\tat py4j.commands.AbstractCommand.invokeMethod(AbstractCommand.java:132)\r\n\tat py4j.commands.CallCommand.execute(CallCommand.java:79)\r\n\tat py4j.GatewayConnection.run(GatewayConnection.java:238)\r\n\tat java.lang.Thread.run(Thread.java:745)\r\nCaused by: org.apache.spark.SparkException: Failed to execute user defined function($anonfun$4: (struct<ind_ahor_fin_ult1_double_VectorAssembler_f72e65550c01:double,ind_aval_fin_ult1_double_VectorAssembler_f72e65550c01:double,ind_cco_fin_ult1_double_VectorAssembler_f72e65550c01:double,ind_cder_fin_ult1_double_VectorAssembler_f72e65550c01:double,ind_cno_fin_ult1_double_VectorAssembler_f72e65550c01:double,ind_ctju_fin_ult1_double_VectorAssembler_f72e65550c01:double,ind_ctma_fin_ult1_double_VectorAssembler_f72e65550c01:double,ind_ctop_fin_ult1_double_VectorAssembler_f72e65550c01:double,ind_ctpp_fin_ult1_double_VectorAssembler_f72e65550c01:double,ind_deco_fin_ult1_double_VectorAssembler_f72e65550c01:double,ind_deme_fin_ult1_double_VectorAssembler_f72e65550c01:double,ind_dela_fin_ult1_double_VectorAssembler_f72e65550c01:double,ind_ecue_fin_ult1_double_VectorAssembler_f72e65550c01:double,ind_fond_fin_ult1_double_VectorAssembler_f72e65550c01:double,ind_hip_fin_ult1_double_VectorAssembler_f72e65550c01:double,ind_plan_fin_ult1_double_VectorAssembler_f72e65550c01:double,ind_pres_fin_ult1_double_VectorAssembler_f72e65550c01:double,ind_reca_fin_ult1_double_VectorAssembler_f72e65550c01:double,ind_tjcr_fin_ult1_double_VectorAssembler_f72e65550c01:double,ind_valo_fin_ult1_double_VectorAssembler_f72e65550c01:double,ind_viv_fin_ult1_double_VectorAssembler_f72e65550c01:double,ind_nomina_ult1_double_VectorAssembler_f72e65550c01:double,ind_nom_pens_ult1_double_VectorAssembler_f72e65550c01:double,ind_recibo_ult1_double_VectorAssembler_f72e65550c01:double>) => struct<type:tinyint,size:int,indices:array<int>,values:array<double>>)\r\n\tat org.apache.spark.sql.catalyst.expressions.GeneratedClass$GeneratedIteratorForCodegenStage1.processNext(Unknown Source)\r\n\tat org.apache.spark.sql.execution.BufferedRowIterator.hasNext(BufferedRowIterator.java:43)\r\n\tat org.apache.spark.sql.execution.WholeStageCodegenExec$$anonfun$11$$anon$1.hasNext(WholeStageCodegenExec.scala:619)\r\n\tat org.apache.spark.sql.execution.SparkPlan$$anonfun$2.apply(SparkPlan.scala:255)\r\n\tat org.apache.spark.sql.execution.SparkPlan$$anonfun$2.apply(SparkPlan.scala:247)\r\n\tat org.apache.spark.rdd.RDD$$anonfun$mapPartitionsInternal$1$$anonfun$apply$24.apply(RDD.scala:836)\r\n\tat org.apache.spark.rdd.RDD$$anonfun$mapPartitionsInternal$1$$anonfun$apply$24.apply(RDD.scala:836)\r\n\tat org.apache.spark.rdd.MapPartitionsRDD.compute(MapPartitionsRDD.scala:52)\r\n\tat org.apache.spark.rdd.RDD.computeOrReadCheckpoint(RDD.scala:324)\r\n\tat org.apache.spark.rdd.RDD.iterator(RDD.scala:288)\r\n\tat org.apache.spark.rdd.MapPartitionsRDD.compute(MapPartitionsRDD.scala:52)\r\n\tat org.apache.spark.rdd.RDD.computeOrReadCheckpoint(RDD.scala:324)\r\n\tat org.apache.spark.rdd.RDD.iterator(RDD.scala:288)\r\n\tat org.apache.spark.scheduler.ResultTask.runTask(ResultTask.scala:90)\r\n\tat org.apache.spark.scheduler.Task.run(Task.scala:121)\r\n\tat org.apache.spark.executor.Executor$TaskRunner$$anonfun$10.apply(Executor.scala:402)\r\n\tat org.apache.spark.util.Utils$.tryWithSafeFinally(Utils.scala:1360)\r\n\tat org.apache.spark.executor.Executor$TaskRunner.run(Executor.scala:408)\r\n\tat java.util.concurrent.ThreadPoolExecutor.runWorker(ThreadPoolExecutor.java:1142)\r\n\tat java.util.concurrent.ThreadPoolExecutor$Worker.run(ThreadPoolExecutor.java:617)\r\n\t... 1 more\r\nCaused by: org.apache.spark.SparkException: Encountered null while assembling a row with handleInvalid = \"keep\". Consider\nremoving nulls from dataset or using handleInvalid = \"keep\" or \"skip\".\r\n\tat org.apache.spark.ml.feature.VectorAssembler$$anonfun$assemble$1.apply(VectorAssembler.scala:287)\r\n\tat org.apache.spark.ml.feature.VectorAssembler$$anonfun$assemble$1.apply(VectorAssembler.scala:255)\r\n\tat scala.collection.IndexedSeqOptimized$class.foreach(IndexedSeqOptimized.scala:33)\r\n\tat scala.collection.mutable.WrappedArray.foreach(WrappedArray.scala:35)\r\n\tat org.apache.spark.ml.feature.VectorAssembler$.assemble(VectorAssembler.scala:255)\r\n\tat org.apache.spark.ml.feature.VectorAssembler$$anonfun$4.apply(VectorAssembler.scala:144)\r\n\tat org.apache.spark.ml.feature.VectorAssembler$$anonfun$4.apply(VectorAssembler.scala:143)\r\n\t... 21 more\r\n"
     ]
    }
   ],
   "source": [
    "df_val2 =df_val1\n",
    "df_val2.select('features').show(4)"
   ]
  },
  {
   "cell_type": "code",
   "execution_count": null,
   "metadata": {},
   "outputs": [],
   "source": []
  }
 ],
 "metadata": {
  "kernelspec": {
   "display_name": "Python 3",
   "language": "python",
   "name": "python3"
  },
  "language_info": {
   "codemirror_mode": {
    "name": "ipython",
    "version": 3
   },
   "file_extension": ".py",
   "mimetype": "text/x-python",
   "name": "python",
   "nbconvert_exporter": "python",
   "pygments_lexer": "ipython3",
   "version": "3.6.4"
  }
 },
 "nbformat": 4,
 "nbformat_minor": 2
}
